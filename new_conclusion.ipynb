{
 "cells": [
  {
   "cell_type": "code",
   "id": "initial_id",
   "metadata": {
    "collapsed": true,
    "jupyter": {
     "outputs_hidden": true
    },
    "ExecuteTime": {
     "end_time": "2024-07-11T03:29:48.172052Z",
     "start_time": "2024-07-11T03:29:48.156778Z"
    }
   },
   "source": [
    "def quickGroup(res,target):\n",
    "    res['different_email'] = res.apply(\n",
    "        lambda row: row['reciver'] if row['sender'] == target else row['sender'], axis=1)\n",
    "\n",
    "    def concatenate_group(group):\n",
    "        return '|'.join(['date:{} sender:{} reciver:{} content:{}'.format(row['date'], row['sender'], row['reciver'],row['content']) for idx, row in group.iterrows()])\n",
    "\n",
    "    res = res.groupby('different_email').apply(concatenate_group).reset_index()\n",
    "    return res"
   ],
   "outputs": [],
   "execution_count": 37
  },
  {
   "cell_type": "markdown",
   "id": "d2ccad569d9d3a3e",
   "metadata": {},
   "source": []
  },
  {
   "cell_type": "code",
   "id": "9553da2ada8cd0dd",
   "metadata": {
    "ExecuteTime": {
     "end_time": "2024-07-11T03:29:48.219246Z",
     "start_time": "2024-07-11T03:29:48.204238Z"
    }
   },
   "source": [
    "from search_utils import select1"
   ],
   "outputs": [],
   "execution_count": 38
  },
  {
   "cell_type": "code",
   "id": "f4cf30373bdcd064",
   "metadata": {
    "ExecuteTime": {
     "end_time": "2024-07-11T03:29:48.297859Z",
     "start_time": "2024-07-11T03:29:48.220052Z"
    }
   },
   "source": [
    "_,answer_df=select1(\"phillip.allen@enron.com\", \"2000-01-13\", \"2000-12-14\")\n",
    "answer_df"
   ],
   "outputs": [
    {
     "data": {
      "text/plain": [
       "                                       message_id                date  \\\n",
       "0      8610882.1075855692600.JavaMail.evans@thyme 2000-01-13 10:30:00   \n",
       "1      1678403.1075855672927.JavaMail.evans@thyme 2000-01-13 10:30:00   \n",
       "2     21833620.1075855673443.JavaMail.evans@thyme 2000-01-13 10:30:00   \n",
       "3     17997025.1075855686087.JavaMail.evans@thyme 2000-01-13 10:30:00   \n",
       "4     10404043.1075855692579.JavaMail.evans@thyme 2000-01-13 11:35:00   \n",
       "...                                           ...                 ...   \n",
       "1635   4387230.1075855719026.JavaMail.evans@thyme 2000-12-14 14:15:00   \n",
       "1636   9400496.1075855729384.JavaMail.evans@thyme 2000-12-14 14:33:00   \n",
       "1637  16063461.1075855699820.JavaMail.evans@thyme 2000-12-14 14:33:00   \n",
       "1638   1820733.1075855707677.JavaMail.evans@thyme 2000-12-14 14:33:00   \n",
       "1639  29895189.1075855719004.JavaMail.evans@thyme 2000-12-14 14:33:00   \n",
       "\n",
       "                       sender                          reciver  \\\n",
       "0     phillip.allen@enron.com  brenda.flores-cuellar@enron.com   \n",
       "1     phillip.allen@enron.com  brenda.flores-cuellar@enron.com   \n",
       "2     phillip.allen@enron.com  brenda.flores-cuellar@enron.com   \n",
       "3     phillip.allen@enron.com  brenda.flores-cuellar@enron.com   \n",
       "4     phillip.allen@enron.com                slewis2@enron.com   \n",
       "...                       ...                              ...   \n",
       "1635  phillip.allen@enron.com       stagecoachmama@hotmail.com   \n",
       "1636  phillip.allen@enron.com       stagecoachmama@hotmail.com   \n",
       "1637  phillip.allen@enron.com       stagecoachmama@hotmail.com   \n",
       "1638  phillip.allen@enron.com       stagecoachmama@hotmail.com   \n",
       "1639  phillip.allen@enron.com       stagecoachmama@hotmail.com   \n",
       "\n",
       "                                                content  index  \n",
       "0     Jeff/Brenda:\\n\\nPlease authorize the following...    295  \n",
       "1     Jeff/Brenda:\\n\\nPlease authorize the following...    982  \n",
       "2     Jeff/Brenda:\\n\\nPlease authorize the following...   1899  \n",
       "3     Jeff/Brenda:\\n\\nPlease authorize the following...   3191  \n",
       "4     Susan,\\n\\n I received an enrollment confirmati...    294  \n",
       "...                                                 ...    ...  \n",
       "1635  Lucy,\\n\\nHere is a new file for 12/15.\\n\\n\\n\\n...   3515  \n",
       "1636  Lucy,\\n\\n I want to get the lease data and ten...    616  \n",
       "1637  Lucy,\\n\\n I want to get the lease data and ten...   1330  \n",
       "1638  Lucy,\\n\\n I want to get the lease data and ten...   2104  \n",
       "1639  Lucy,\\n\\n I want to get the lease data and ten...   3514  \n",
       "\n",
       "[1640 rows x 6 columns]"
      ],
      "text/html": [
       "<div>\n",
       "<style scoped>\n",
       "    .dataframe tbody tr th:only-of-type {\n",
       "        vertical-align: middle;\n",
       "    }\n",
       "\n",
       "    .dataframe tbody tr th {\n",
       "        vertical-align: top;\n",
       "    }\n",
       "\n",
       "    .dataframe thead th {\n",
       "        text-align: right;\n",
       "    }\n",
       "</style>\n",
       "<table border=\"1\" class=\"dataframe\">\n",
       "  <thead>\n",
       "    <tr style=\"text-align: right;\">\n",
       "      <th></th>\n",
       "      <th>message_id</th>\n",
       "      <th>date</th>\n",
       "      <th>sender</th>\n",
       "      <th>reciver</th>\n",
       "      <th>content</th>\n",
       "      <th>index</th>\n",
       "    </tr>\n",
       "  </thead>\n",
       "  <tbody>\n",
       "    <tr>\n",
       "      <th>0</th>\n",
       "      <td>8610882.1075855692600.JavaMail.evans@thyme</td>\n",
       "      <td>2000-01-13 10:30:00</td>\n",
       "      <td>phillip.allen@enron.com</td>\n",
       "      <td>brenda.flores-cuellar@enron.com</td>\n",
       "      <td>Jeff/Brenda:\\n\\nPlease authorize the following...</td>\n",
       "      <td>295</td>\n",
       "    </tr>\n",
       "    <tr>\n",
       "      <th>1</th>\n",
       "      <td>1678403.1075855672927.JavaMail.evans@thyme</td>\n",
       "      <td>2000-01-13 10:30:00</td>\n",
       "      <td>phillip.allen@enron.com</td>\n",
       "      <td>brenda.flores-cuellar@enron.com</td>\n",
       "      <td>Jeff/Brenda:\\n\\nPlease authorize the following...</td>\n",
       "      <td>982</td>\n",
       "    </tr>\n",
       "    <tr>\n",
       "      <th>2</th>\n",
       "      <td>21833620.1075855673443.JavaMail.evans@thyme</td>\n",
       "      <td>2000-01-13 10:30:00</td>\n",
       "      <td>phillip.allen@enron.com</td>\n",
       "      <td>brenda.flores-cuellar@enron.com</td>\n",
       "      <td>Jeff/Brenda:\\n\\nPlease authorize the following...</td>\n",
       "      <td>1899</td>\n",
       "    </tr>\n",
       "    <tr>\n",
       "      <th>3</th>\n",
       "      <td>17997025.1075855686087.JavaMail.evans@thyme</td>\n",
       "      <td>2000-01-13 10:30:00</td>\n",
       "      <td>phillip.allen@enron.com</td>\n",
       "      <td>brenda.flores-cuellar@enron.com</td>\n",
       "      <td>Jeff/Brenda:\\n\\nPlease authorize the following...</td>\n",
       "      <td>3191</td>\n",
       "    </tr>\n",
       "    <tr>\n",
       "      <th>4</th>\n",
       "      <td>10404043.1075855692579.JavaMail.evans@thyme</td>\n",
       "      <td>2000-01-13 11:35:00</td>\n",
       "      <td>phillip.allen@enron.com</td>\n",
       "      <td>slewis2@enron.com</td>\n",
       "      <td>Susan,\\n\\n I received an enrollment confirmati...</td>\n",
       "      <td>294</td>\n",
       "    </tr>\n",
       "    <tr>\n",
       "      <th>...</th>\n",
       "      <td>...</td>\n",
       "      <td>...</td>\n",
       "      <td>...</td>\n",
       "      <td>...</td>\n",
       "      <td>...</td>\n",
       "      <td>...</td>\n",
       "    </tr>\n",
       "    <tr>\n",
       "      <th>1635</th>\n",
       "      <td>4387230.1075855719026.JavaMail.evans@thyme</td>\n",
       "      <td>2000-12-14 14:15:00</td>\n",
       "      <td>phillip.allen@enron.com</td>\n",
       "      <td>stagecoachmama@hotmail.com</td>\n",
       "      <td>Lucy,\\n\\nHere is a new file for 12/15.\\n\\n\\n\\n...</td>\n",
       "      <td>3515</td>\n",
       "    </tr>\n",
       "    <tr>\n",
       "      <th>1636</th>\n",
       "      <td>9400496.1075855729384.JavaMail.evans@thyme</td>\n",
       "      <td>2000-12-14 14:33:00</td>\n",
       "      <td>phillip.allen@enron.com</td>\n",
       "      <td>stagecoachmama@hotmail.com</td>\n",
       "      <td>Lucy,\\n\\n I want to get the lease data and ten...</td>\n",
       "      <td>616</td>\n",
       "    </tr>\n",
       "    <tr>\n",
       "      <th>1637</th>\n",
       "      <td>16063461.1075855699820.JavaMail.evans@thyme</td>\n",
       "      <td>2000-12-14 14:33:00</td>\n",
       "      <td>phillip.allen@enron.com</td>\n",
       "      <td>stagecoachmama@hotmail.com</td>\n",
       "      <td>Lucy,\\n\\n I want to get the lease data and ten...</td>\n",
       "      <td>1330</td>\n",
       "    </tr>\n",
       "    <tr>\n",
       "      <th>1638</th>\n",
       "      <td>1820733.1075855707677.JavaMail.evans@thyme</td>\n",
       "      <td>2000-12-14 14:33:00</td>\n",
       "      <td>phillip.allen@enron.com</td>\n",
       "      <td>stagecoachmama@hotmail.com</td>\n",
       "      <td>Lucy,\\n\\n I want to get the lease data and ten...</td>\n",
       "      <td>2104</td>\n",
       "    </tr>\n",
       "    <tr>\n",
       "      <th>1639</th>\n",
       "      <td>29895189.1075855719004.JavaMail.evans@thyme</td>\n",
       "      <td>2000-12-14 14:33:00</td>\n",
       "      <td>phillip.allen@enron.com</td>\n",
       "      <td>stagecoachmama@hotmail.com</td>\n",
       "      <td>Lucy,\\n\\n I want to get the lease data and ten...</td>\n",
       "      <td>3514</td>\n",
       "    </tr>\n",
       "  </tbody>\n",
       "</table>\n",
       "<p>1640 rows × 6 columns</p>\n",
       "</div>"
      ]
     },
     "execution_count": 39,
     "metadata": {},
     "output_type": "execute_result"
    }
   ],
   "execution_count": 39
  },
  {
   "cell_type": "code",
   "id": "e34e6b90cb5f4d27",
   "metadata": {
    "ExecuteTime": {
     "end_time": "2024-07-11T03:29:48.439240Z",
     "start_time": "2024-07-11T03:29:48.297859Z"
    }
   },
   "source": [
    "answer_2=quickGroup(answer_df,\"phillip.allen@enron.com\")"
   ],
   "outputs": [
    {
     "name": "stderr",
     "output_type": "stream",
     "text": [
      "C:\\Users\\yang\\AppData\\Local\\Temp\\ipykernel_9640\\3757202565.py:8: DeprecationWarning: DataFrameGroupBy.apply operated on the grouping columns. This behavior is deprecated, and in a future version of pandas the grouping columns will be excluded from the operation. Either pass `include_groups=False` to exclude the groupings or explicitly select the grouping columns after groupby to silence this warning.\n",
      "  res = res.groupby('different_email').apply(concatenate_group).reset_index()\n"
     ]
    }
   ],
   "execution_count": 40
  },
  {
   "cell_type": "code",
   "id": "85a42297e9934624",
   "metadata": {
    "ExecuteTime": {
     "end_time": "2024-07-11T03:29:48.454769Z",
     "start_time": "2024-07-11T03:29:48.439748Z"
    }
   },
   "source": "answer_2",
   "outputs": [
    {
     "data": {
      "text/plain": [
       "                different_email  \\\n",
       "0    Circuit Provisioning@ENRON   \n",
       "1          al.pollard@enron.com   \n",
       "2     andrea.richards@enron.com   \n",
       "3         andy.zipper@enron.com   \n",
       "4           anne.bike@enron.com   \n",
       "..                          ...   \n",
       "129    vladimir.gorny@enron.com   \n",
       "130     william.kelly@enron.com   \n",
       "131             ywang@enron.com   \n",
       "132             zimam@enron.com   \n",
       "133          zimin.lu@enron.com   \n",
       "\n",
       "                                                     0  \n",
       "0    date:2000-05-01 10:56:00 sender:phillip.allen@...  \n",
       "1    date:2000-05-31 17:01:00 sender:phillip.allen@...  \n",
       "2    date:2000-12-06 12:43:00 sender:phillip.allen@...  \n",
       "3    date:2000-10-24 14:50:00 sender:phillip.allen@...  \n",
       "4    date:2000-10-31 12:12:00 sender:phillip.allen@...  \n",
       "..                                                 ...  \n",
       "129  date:2000-10-30 09:14:00 sender:phillip.allen@...  \n",
       "130  date:2000-01-18 18:03:00 sender:phillip.allen@...  \n",
       "131  date:2000-07-11 09:12:00 sender:phillip.allen@...  \n",
       "132  date:2000-10-16 13:44:00 sender:phillip.allen@...  \n",
       "133  date:2000-03-27 10:27:00 sender:zimin.lu@enron...  \n",
       "\n",
       "[134 rows x 2 columns]"
      ],
      "text/html": [
       "<div>\n",
       "<style scoped>\n",
       "    .dataframe tbody tr th:only-of-type {\n",
       "        vertical-align: middle;\n",
       "    }\n",
       "\n",
       "    .dataframe tbody tr th {\n",
       "        vertical-align: top;\n",
       "    }\n",
       "\n",
       "    .dataframe thead th {\n",
       "        text-align: right;\n",
       "    }\n",
       "</style>\n",
       "<table border=\"1\" class=\"dataframe\">\n",
       "  <thead>\n",
       "    <tr style=\"text-align: right;\">\n",
       "      <th></th>\n",
       "      <th>different_email</th>\n",
       "      <th>0</th>\n",
       "    </tr>\n",
       "  </thead>\n",
       "  <tbody>\n",
       "    <tr>\n",
       "      <th>0</th>\n",
       "      <td>Circuit Provisioning@ENRON</td>\n",
       "      <td>date:2000-05-01 10:56:00 sender:phillip.allen@...</td>\n",
       "    </tr>\n",
       "    <tr>\n",
       "      <th>1</th>\n",
       "      <td>al.pollard@enron.com</td>\n",
       "      <td>date:2000-05-31 17:01:00 sender:phillip.allen@...</td>\n",
       "    </tr>\n",
       "    <tr>\n",
       "      <th>2</th>\n",
       "      <td>andrea.richards@enron.com</td>\n",
       "      <td>date:2000-12-06 12:43:00 sender:phillip.allen@...</td>\n",
       "    </tr>\n",
       "    <tr>\n",
       "      <th>3</th>\n",
       "      <td>andy.zipper@enron.com</td>\n",
       "      <td>date:2000-10-24 14:50:00 sender:phillip.allen@...</td>\n",
       "    </tr>\n",
       "    <tr>\n",
       "      <th>4</th>\n",
       "      <td>anne.bike@enron.com</td>\n",
       "      <td>date:2000-10-31 12:12:00 sender:phillip.allen@...</td>\n",
       "    </tr>\n",
       "    <tr>\n",
       "      <th>...</th>\n",
       "      <td>...</td>\n",
       "      <td>...</td>\n",
       "    </tr>\n",
       "    <tr>\n",
       "      <th>129</th>\n",
       "      <td>vladimir.gorny@enron.com</td>\n",
       "      <td>date:2000-10-30 09:14:00 sender:phillip.allen@...</td>\n",
       "    </tr>\n",
       "    <tr>\n",
       "      <th>130</th>\n",
       "      <td>william.kelly@enron.com</td>\n",
       "      <td>date:2000-01-18 18:03:00 sender:phillip.allen@...</td>\n",
       "    </tr>\n",
       "    <tr>\n",
       "      <th>131</th>\n",
       "      <td>ywang@enron.com</td>\n",
       "      <td>date:2000-07-11 09:12:00 sender:phillip.allen@...</td>\n",
       "    </tr>\n",
       "    <tr>\n",
       "      <th>132</th>\n",
       "      <td>zimam@enron.com</td>\n",
       "      <td>date:2000-10-16 13:44:00 sender:phillip.allen@...</td>\n",
       "    </tr>\n",
       "    <tr>\n",
       "      <th>133</th>\n",
       "      <td>zimin.lu@enron.com</td>\n",
       "      <td>date:2000-03-27 10:27:00 sender:zimin.lu@enron...</td>\n",
       "    </tr>\n",
       "  </tbody>\n",
       "</table>\n",
       "<p>134 rows × 2 columns</p>\n",
       "</div>"
      ]
     },
     "execution_count": 41,
     "metadata": {},
     "output_type": "execute_result"
    }
   ],
   "execution_count": 41
  },
  {
   "metadata": {
    "ExecuteTime": {
     "end_time": "2024-07-11T03:29:48.470407Z",
     "start_time": "2024-07-11T03:29:48.454769Z"
    }
   },
   "cell_type": "code",
   "source": [
    "import requests\n",
    "app2 = \"fastgpt-bQox5Okz3inwbNkDfDcpboTwuzycOy1rwGSKt4h4rBFvwvTUFui0QiGPJ8x5wZoec\"\n",
    "def chat_fast(content,chatId,appid):\n",
    "    url = 'https://api.fastgpt.in/api/v1/chat/completions'\n",
    "    headers = {\n",
    "        'Authorization': 'Bearer '+appid,\n",
    "        'Content-Type': 'application/json'\n",
    "    }\n",
    "    data = {\n",
    "        \"chatId\": chatId,\n",
    "        \"stream\": False,\n",
    "        \"detail\": False,\n",
    "        \"messages\": [\n",
    "            {\n",
    "                \"content\": content,\n",
    "                \"role\": \"user\"\n",
    "            }\n",
    "        ]\n",
    "    }\n",
    "    response = requests.post(url, headers=headers, json=data)\n",
    "    response_json = response.json()\n",
    "    print(response_json)\n",
    "    message=response_json['choices'][0]['message']['content']\n",
    "    return message"
   ],
   "id": "cc32280d4d40ccb7",
   "outputs": [],
   "execution_count": 42
  },
  {
   "metadata": {
    "ExecuteTime": {
     "end_time": "2024-07-11T03:29:48.486128Z",
     "start_time": "2024-07-11T03:29:48.471116Z"
    }
   },
   "cell_type": "code",
   "source": "",
   "id": "8c4b79678932f526",
   "outputs": [],
   "execution_count": 42
  },
  {
   "metadata": {
    "ExecuteTime": {
     "end_time": "2024-07-11T03:29:48.501777Z",
     "start_time": "2024-07-11T03:29:48.486128Z"
    }
   },
   "cell_type": "code",
   "source": "answer_2\n",
   "id": "37ad6985492b484f",
   "outputs": [
    {
     "data": {
      "text/plain": [
       "                different_email  \\\n",
       "0    Circuit Provisioning@ENRON   \n",
       "1          al.pollard@enron.com   \n",
       "2     andrea.richards@enron.com   \n",
       "3         andy.zipper@enron.com   \n",
       "4           anne.bike@enron.com   \n",
       "..                          ...   \n",
       "129    vladimir.gorny@enron.com   \n",
       "130     william.kelly@enron.com   \n",
       "131             ywang@enron.com   \n",
       "132             zimam@enron.com   \n",
       "133          zimin.lu@enron.com   \n",
       "\n",
       "                                                     0  \n",
       "0    date:2000-05-01 10:56:00 sender:phillip.allen@...  \n",
       "1    date:2000-05-31 17:01:00 sender:phillip.allen@...  \n",
       "2    date:2000-12-06 12:43:00 sender:phillip.allen@...  \n",
       "3    date:2000-10-24 14:50:00 sender:phillip.allen@...  \n",
       "4    date:2000-10-31 12:12:00 sender:phillip.allen@...  \n",
       "..                                                 ...  \n",
       "129  date:2000-10-30 09:14:00 sender:phillip.allen@...  \n",
       "130  date:2000-01-18 18:03:00 sender:phillip.allen@...  \n",
       "131  date:2000-07-11 09:12:00 sender:phillip.allen@...  \n",
       "132  date:2000-10-16 13:44:00 sender:phillip.allen@...  \n",
       "133  date:2000-03-27 10:27:00 sender:zimin.lu@enron...  \n",
       "\n",
       "[134 rows x 2 columns]"
      ],
      "text/html": [
       "<div>\n",
       "<style scoped>\n",
       "    .dataframe tbody tr th:only-of-type {\n",
       "        vertical-align: middle;\n",
       "    }\n",
       "\n",
       "    .dataframe tbody tr th {\n",
       "        vertical-align: top;\n",
       "    }\n",
       "\n",
       "    .dataframe thead th {\n",
       "        text-align: right;\n",
       "    }\n",
       "</style>\n",
       "<table border=\"1\" class=\"dataframe\">\n",
       "  <thead>\n",
       "    <tr style=\"text-align: right;\">\n",
       "      <th></th>\n",
       "      <th>different_email</th>\n",
       "      <th>0</th>\n",
       "    </tr>\n",
       "  </thead>\n",
       "  <tbody>\n",
       "    <tr>\n",
       "      <th>0</th>\n",
       "      <td>Circuit Provisioning@ENRON</td>\n",
       "      <td>date:2000-05-01 10:56:00 sender:phillip.allen@...</td>\n",
       "    </tr>\n",
       "    <tr>\n",
       "      <th>1</th>\n",
       "      <td>al.pollard@enron.com</td>\n",
       "      <td>date:2000-05-31 17:01:00 sender:phillip.allen@...</td>\n",
       "    </tr>\n",
       "    <tr>\n",
       "      <th>2</th>\n",
       "      <td>andrea.richards@enron.com</td>\n",
       "      <td>date:2000-12-06 12:43:00 sender:phillip.allen@...</td>\n",
       "    </tr>\n",
       "    <tr>\n",
       "      <th>3</th>\n",
       "      <td>andy.zipper@enron.com</td>\n",
       "      <td>date:2000-10-24 14:50:00 sender:phillip.allen@...</td>\n",
       "    </tr>\n",
       "    <tr>\n",
       "      <th>4</th>\n",
       "      <td>anne.bike@enron.com</td>\n",
       "      <td>date:2000-10-31 12:12:00 sender:phillip.allen@...</td>\n",
       "    </tr>\n",
       "    <tr>\n",
       "      <th>...</th>\n",
       "      <td>...</td>\n",
       "      <td>...</td>\n",
       "    </tr>\n",
       "    <tr>\n",
       "      <th>129</th>\n",
       "      <td>vladimir.gorny@enron.com</td>\n",
       "      <td>date:2000-10-30 09:14:00 sender:phillip.allen@...</td>\n",
       "    </tr>\n",
       "    <tr>\n",
       "      <th>130</th>\n",
       "      <td>william.kelly@enron.com</td>\n",
       "      <td>date:2000-01-18 18:03:00 sender:phillip.allen@...</td>\n",
       "    </tr>\n",
       "    <tr>\n",
       "      <th>131</th>\n",
       "      <td>ywang@enron.com</td>\n",
       "      <td>date:2000-07-11 09:12:00 sender:phillip.allen@...</td>\n",
       "    </tr>\n",
       "    <tr>\n",
       "      <th>132</th>\n",
       "      <td>zimam@enron.com</td>\n",
       "      <td>date:2000-10-16 13:44:00 sender:phillip.allen@...</td>\n",
       "    </tr>\n",
       "    <tr>\n",
       "      <th>133</th>\n",
       "      <td>zimin.lu@enron.com</td>\n",
       "      <td>date:2000-03-27 10:27:00 sender:zimin.lu@enron...</td>\n",
       "    </tr>\n",
       "  </tbody>\n",
       "</table>\n",
       "<p>134 rows × 2 columns</p>\n",
       "</div>"
      ]
     },
     "execution_count": 43,
     "metadata": {},
     "output_type": "execute_result"
    }
   ],
   "execution_count": 43
  },
  {
   "metadata": {
    "ExecuteTime": {
     "end_time": "2024-07-11T03:29:48.515915Z",
     "start_time": "2024-07-11T03:29:48.501777Z"
    }
   },
   "cell_type": "code",
   "source": [
    "content=answer_2[0][1].split(\"|\")\n",
    "content"
   ],
   "id": "a317305c49857cf0",
   "outputs": [
    {
     "data": {
      "text/plain": [
       "[\"date:2000-05-31 17:01:00 sender:phillip.allen@enron.com reciver:al.pollard@enron.com content:Al,\\n\\nI was glad to hear from you.  I hope we can put the past behind us.  Sounds \\nlike you have been busy.  Congratulations on the new baby.  Judging from your \\nemail all is well with you.   That's great.  \\n\\nWe did have another girl in December, (Evelyn Grace).  Three is it for us.  \\nWhat's your target?  The other two are doing well.  Soccer, T-ball, and bike \\nriding keeps them busy.  They could use some of Cole's coordination.\\n\\nMy fitness program is not as intense as yours right now.  I am just on \\nmaintenance.  You will be surprised to hear that Hunter is a fanatical \\ncyclist.  We have been riding to work twice a week for the last few months.  \\nHe never misses, rain or shine.  Sometimes we even hit the trails in Memorial \\nPark on Saturdays.   Mountain biking is not as hard as a 50 mile trip on the \\nroad.  I would like to dust off my road bike and go for a ride some Saturday.\\n\\nI would like to hear more about your new job.  Maybe we could grab lunch \\nsometime.  \\n\\nPhillip\\n\\n\",\n",
       " \"date:2000-05-31 17:01:00 sender:phillip.allen@enron.com reciver:al.pollard@enron.com content:Al,\\n\\nI was glad to hear from you.  I hope we can put the past behind us.  Sounds \\nlike you have been busy.  Congratulations on the new baby.  Judging from your \\nemail all is well with you.   That's great.  \\n\\nWe did have another girl in December, (Evelyn Grace).  Three is it for us.  \\nWhat's your target?  The other two are doing well.  Soccer, T-ball, and bike \\nriding keeps them busy.  They could use some of Cole's coordination.\\n\\nMy fitness program is not as intense as yours right now.  I am just on \\nmaintenance.  You will be surprised to hear that Hunter is a fanatical \\ncyclist.  We have been riding to work twice a week for the last few months.  \\nHe never misses, rain or shine.  Sometimes we even hit the trails in Memorial \\nPark on Saturdays.   Mountain biking is not as hard as a 50 mile trip on the \\nroad.  I would like to dust off my road bike and go for a ride some Saturday.\\n\\nI would like to hear more about your new job.  Maybe we could grab lunch \\nsometime.  \\n\\nPhillip\\n\\n\",\n",
       " \"date:2000-05-31 17:01:00 sender:phillip.allen@enron.com reciver:al.pollard@enron.com content:Al,\\n\\nI was glad to hear from you.  I hope we can put the past behind us.  Sounds \\nlike you have been busy.  Congratulations on the new baby.  Judging from your \\nemail all is well with you.   That's great.  \\n\\nWe did have another girl in December, (Evelyn Grace).  Three is it for us.  \\nWhat's your target?  The other two are doing well.  Soccer, T-ball, and bike \\nriding keeps them busy.  They could use some of Cole's coordination.\\n\\nMy fitness program is not as intense as yours right now.  I am just on \\nmaintenance.  You will be surprised to hear that Hunter is a fanatical \\ncyclist.  We have been riding to work twice a week for the last few months.  \\nHe never misses, rain or shine.  Sometimes we even hit the trails in Memorial \\nPark on Saturdays.   Mountain biking is not as hard as a 50 mile trip on the \\nroad.  I would like to dust off my road bike and go for a ride some Saturday.\\n\\nI would like to hear more about your new job.  Maybe we could grab lunch \\nsometime.  \\n\\nPhillip\\n\\n\",\n",
       " \"date:2000-07-10 13:54:00 sender:phillip.allen@enron.com reciver:al.pollard@enron.com content:Al,\\n\\nI am not in good enough shape to ride a century right now.  Plus I'm nursing \\nsome injuries.  I can do lunch this week or next, let's pick a day.\\n\\nPhillip\",\n",
       " \"date:2000-07-10 13:54:00 sender:phillip.allen@enron.com reciver:al.pollard@enron.com content:Al,\\n\\nI am not in good enough shape to ride a century right now.  Plus I'm nursing \\nsome injuries.  I can do lunch this week or next, let's pick a day.\\n\\nPhillip\",\n",
       " \"date:2000-07-10 13:54:00 sender:phillip.allen@enron.com reciver:al.pollard@enron.com content:Al,\\n\\nI am not in good enough shape to ride a century right now.  Plus I'm nursing \\nsome injuries.  I can do lunch this week or next, let's pick a day.\\n\\nPhillip\",\n",
       " 'date:2000-07-11 09:50:00 sender:phillip.allen@enron.com reciver:al.pollard@enron.com content:How about Tuesday at 11:15 in front of the building?',\n",
       " 'date:2000-07-11 09:50:00 sender:phillip.allen@enron.com reciver:al.pollard@enron.com content:How about Tuesday at 11:15 in front of the building?',\n",
       " 'date:2000-07-11 09:50:00 sender:phillip.allen@enron.com reciver:al.pollard@enron.com content:How about Tuesday at 11:15 in front of the building?',\n",
       " 'date:2000-07-18 09:38:00 sender:phillip.allen@enron.com reciver:al.pollard@enron.com content:11:15 today still works.',\n",
       " 'date:2000-07-18 09:38:00 sender:phillip.allen@enron.com reciver:al.pollard@enron.com content:11:15 today still works.',\n",
       " 'date:2000-07-18 09:38:00 sender:phillip.allen@enron.com reciver:al.pollard@enron.com content:11:15 today still works.']"
      ]
     },
     "execution_count": 44,
     "metadata": {},
     "output_type": "execute_result"
    }
   ],
   "execution_count": 44
  },
  {
   "metadata": {
    "ExecuteTime": {
     "end_time": "2024-07-11T03:29:48.543890Z",
     "start_time": "2024-07-11T03:29:48.517525Z"
    }
   },
   "cell_type": "code",
   "source": [
    "import pandas as pd\n",
    "content=answer_2[0][1].split(\"|\")\n",
    "content\n",
    "parsed_data = []\n",
    "for item in content:\n",
    "    parts = item.split(' ')\n",
    "    date_day = parts[0].split(':')[1]\n",
    "    date_time= parts[1]\n",
    "    date = f\"{date_day} {date_time}\"\n",
    "    print(date)\n",
    "    sender = parts[2].split(':')[1]   \n",
    "    receiver = parts[3].split(':')[1]    \n",
    "    content = ' '.join(parts[4:]).split(':')[-1]\n",
    "    parsed_data.append({'date': date, 'sender': sender, 'receiver': receiver, 'content': content})\n",
    "# 创建DataFrame\n",
    "df = pd.DataFrame(parsed_data)\n",
    "df"
   ],
   "id": "89d674573db44437",
   "outputs": [
    {
     "name": "stdout",
     "output_type": "stream",
     "text": [
      "2000-05-31 17:01:00\n",
      "2000-05-31 17:01:00\n",
      "2000-05-31 17:01:00\n",
      "2000-07-10 13:54:00\n",
      "2000-07-10 13:54:00\n",
      "2000-07-10 13:54:00\n",
      "2000-07-11 09:50:00\n",
      "2000-07-11 09:50:00\n",
      "2000-07-11 09:50:00\n",
      "2000-07-18 09:38:00\n",
      "2000-07-18 09:38:00\n",
      "2000-07-18 09:38:00\n"
     ]
    },
    {
     "data": {
      "text/plain": [
       "                   date                   sender              receiver  \\\n",
       "0   2000-05-31 17:01:00  phillip.allen@enron.com  al.pollard@enron.com   \n",
       "1   2000-05-31 17:01:00  phillip.allen@enron.com  al.pollard@enron.com   \n",
       "2   2000-05-31 17:01:00  phillip.allen@enron.com  al.pollard@enron.com   \n",
       "3   2000-07-10 13:54:00  phillip.allen@enron.com  al.pollard@enron.com   \n",
       "4   2000-07-10 13:54:00  phillip.allen@enron.com  al.pollard@enron.com   \n",
       "5   2000-07-10 13:54:00  phillip.allen@enron.com  al.pollard@enron.com   \n",
       "6   2000-07-11 09:50:00  phillip.allen@enron.com  al.pollard@enron.com   \n",
       "7   2000-07-11 09:50:00  phillip.allen@enron.com  al.pollard@enron.com   \n",
       "8   2000-07-11 09:50:00  phillip.allen@enron.com  al.pollard@enron.com   \n",
       "9   2000-07-18 09:38:00  phillip.allen@enron.com  al.pollard@enron.com   \n",
       "10  2000-07-18 09:38:00  phillip.allen@enron.com  al.pollard@enron.com   \n",
       "11  2000-07-18 09:38:00  phillip.allen@enron.com  al.pollard@enron.com   \n",
       "\n",
       "                                              content  \n",
       "0   Al,\\n\\nI was glad to hear from you.  I hope we...  \n",
       "1   Al,\\n\\nI was glad to hear from you.  I hope we...  \n",
       "2   Al,\\n\\nI was glad to hear from you.  I hope we...  \n",
       "3   Al,\\n\\nI am not in good enough shape to ride a...  \n",
       "4   Al,\\n\\nI am not in good enough shape to ride a...  \n",
       "5   Al,\\n\\nI am not in good enough shape to ride a...  \n",
       "6                        15 in front of the building?  \n",
       "7                        15 in front of the building?  \n",
       "8                        15 in front of the building?  \n",
       "9                               15 today still works.  \n",
       "10                              15 today still works.  \n",
       "11                              15 today still works.  "
      ],
      "text/html": [
       "<div>\n",
       "<style scoped>\n",
       "    .dataframe tbody tr th:only-of-type {\n",
       "        vertical-align: middle;\n",
       "    }\n",
       "\n",
       "    .dataframe tbody tr th {\n",
       "        vertical-align: top;\n",
       "    }\n",
       "\n",
       "    .dataframe thead th {\n",
       "        text-align: right;\n",
       "    }\n",
       "</style>\n",
       "<table border=\"1\" class=\"dataframe\">\n",
       "  <thead>\n",
       "    <tr style=\"text-align: right;\">\n",
       "      <th></th>\n",
       "      <th>date</th>\n",
       "      <th>sender</th>\n",
       "      <th>receiver</th>\n",
       "      <th>content</th>\n",
       "    </tr>\n",
       "  </thead>\n",
       "  <tbody>\n",
       "    <tr>\n",
       "      <th>0</th>\n",
       "      <td>2000-05-31 17:01:00</td>\n",
       "      <td>phillip.allen@enron.com</td>\n",
       "      <td>al.pollard@enron.com</td>\n",
       "      <td>Al,\\n\\nI was glad to hear from you.  I hope we...</td>\n",
       "    </tr>\n",
       "    <tr>\n",
       "      <th>1</th>\n",
       "      <td>2000-05-31 17:01:00</td>\n",
       "      <td>phillip.allen@enron.com</td>\n",
       "      <td>al.pollard@enron.com</td>\n",
       "      <td>Al,\\n\\nI was glad to hear from you.  I hope we...</td>\n",
       "    </tr>\n",
       "    <tr>\n",
       "      <th>2</th>\n",
       "      <td>2000-05-31 17:01:00</td>\n",
       "      <td>phillip.allen@enron.com</td>\n",
       "      <td>al.pollard@enron.com</td>\n",
       "      <td>Al,\\n\\nI was glad to hear from you.  I hope we...</td>\n",
       "    </tr>\n",
       "    <tr>\n",
       "      <th>3</th>\n",
       "      <td>2000-07-10 13:54:00</td>\n",
       "      <td>phillip.allen@enron.com</td>\n",
       "      <td>al.pollard@enron.com</td>\n",
       "      <td>Al,\\n\\nI am not in good enough shape to ride a...</td>\n",
       "    </tr>\n",
       "    <tr>\n",
       "      <th>4</th>\n",
       "      <td>2000-07-10 13:54:00</td>\n",
       "      <td>phillip.allen@enron.com</td>\n",
       "      <td>al.pollard@enron.com</td>\n",
       "      <td>Al,\\n\\nI am not in good enough shape to ride a...</td>\n",
       "    </tr>\n",
       "    <tr>\n",
       "      <th>5</th>\n",
       "      <td>2000-07-10 13:54:00</td>\n",
       "      <td>phillip.allen@enron.com</td>\n",
       "      <td>al.pollard@enron.com</td>\n",
       "      <td>Al,\\n\\nI am not in good enough shape to ride a...</td>\n",
       "    </tr>\n",
       "    <tr>\n",
       "      <th>6</th>\n",
       "      <td>2000-07-11 09:50:00</td>\n",
       "      <td>phillip.allen@enron.com</td>\n",
       "      <td>al.pollard@enron.com</td>\n",
       "      <td>15 in front of the building?</td>\n",
       "    </tr>\n",
       "    <tr>\n",
       "      <th>7</th>\n",
       "      <td>2000-07-11 09:50:00</td>\n",
       "      <td>phillip.allen@enron.com</td>\n",
       "      <td>al.pollard@enron.com</td>\n",
       "      <td>15 in front of the building?</td>\n",
       "    </tr>\n",
       "    <tr>\n",
       "      <th>8</th>\n",
       "      <td>2000-07-11 09:50:00</td>\n",
       "      <td>phillip.allen@enron.com</td>\n",
       "      <td>al.pollard@enron.com</td>\n",
       "      <td>15 in front of the building?</td>\n",
       "    </tr>\n",
       "    <tr>\n",
       "      <th>9</th>\n",
       "      <td>2000-07-18 09:38:00</td>\n",
       "      <td>phillip.allen@enron.com</td>\n",
       "      <td>al.pollard@enron.com</td>\n",
       "      <td>15 today still works.</td>\n",
       "    </tr>\n",
       "    <tr>\n",
       "      <th>10</th>\n",
       "      <td>2000-07-18 09:38:00</td>\n",
       "      <td>phillip.allen@enron.com</td>\n",
       "      <td>al.pollard@enron.com</td>\n",
       "      <td>15 today still works.</td>\n",
       "    </tr>\n",
       "    <tr>\n",
       "      <th>11</th>\n",
       "      <td>2000-07-18 09:38:00</td>\n",
       "      <td>phillip.allen@enron.com</td>\n",
       "      <td>al.pollard@enron.com</td>\n",
       "      <td>15 today still works.</td>\n",
       "    </tr>\n",
       "  </tbody>\n",
       "</table>\n",
       "</div>"
      ]
     },
     "execution_count": 45,
     "metadata": {},
     "output_type": "execute_result"
    }
   ],
   "execution_count": 45
  },
  {
   "metadata": {
    "ExecuteTime": {
     "end_time": "2024-07-11T03:29:54.388674Z",
     "start_time": "2024-07-11T03:29:48.543890Z"
    }
   },
   "cell_type": "code",
   "source": "message_answer=chat_fast(answer_2[0][1],31,app2)",
   "id": "742c1ef8c1450e63",
   "outputs": [
    {
     "name": "stdout",
     "output_type": "stream",
     "text": [
      "{'id': 31, 'model': '', 'usage': {'prompt_tokens': 1, 'completion_tokens': 1, 'total_tokens': 1}, 'choices': [{'message': {'role': 'assistant', 'content': '1. 2000年5月31日：菲利普与艾尔重修旧好，祝贺艾尔新添宝宝，分享自己家庭的动态，包括新生女儿Evelyn Grace和儿子Hunter的骑车爱好。\\n2. 菲利普询问艾尔新工作的详情，并提议共进午餐。\\n3. 7月10日，菲利普因身体原因无法参加长途骑行，提出本周或下周吃午餐，讨论具体时间。\\n4. 7月11日，菲利普建议周二上午11:15见面。\\n5. 7月18日，确认周二11:15的见面时间不变。'}, 'finish_reason': 'stop', 'index': 0}]}\n"
     ]
    }
   ],
   "execution_count": 46
  },
  {
   "metadata": {
    "ExecuteTime": {
     "end_time": "2024-07-11T03:29:54.404227Z",
     "start_time": "2024-07-11T03:29:54.392436Z"
    }
   },
   "cell_type": "code",
   "source": "message_answer",
   "id": "b6a4be5c78bec705",
   "outputs": [
    {
     "data": {
      "text/plain": [
       "'1. 2000年5月31日：菲利普与艾尔重修旧好，祝贺艾尔新添宝宝，分享自己家庭的动态，包括新生女儿Evelyn Grace和儿子Hunter的骑车爱好。\\n2. 菲利普询问艾尔新工作的详情，并提议共进午餐。\\n3. 7月10日，菲利普因身体原因无法参加长途骑行，提出本周或下周吃午餐，讨论具体时间。\\n4. 7月11日，菲利普建议周二上午11:15见面。\\n5. 7月18日，确认周二11:15的见面时间不变。'"
      ]
     },
     "execution_count": 47,
     "metadata": {},
     "output_type": "execute_result"
    }
   ],
   "execution_count": 47
  },
  {
   "metadata": {
    "ExecuteTime": {
     "end_time": "2024-07-11T03:29:54.419450Z",
     "start_time": "2024-07-11T03:29:54.407256Z"
    }
   },
   "cell_type": "code",
   "source": [
    "answer=[]\n",
    "answer.append([df,message_answer])\n",
    "answer.append([df,message_answer])\n",
    "answer.append([df,message_answer])\n",
    "answer.append([df,message_answer])\n",
    "answer.append([df,message_answer])\n",
    "answer.append([df,message_answer])\n",
    "item=answer[5][0]\n",
    "item"
   ],
   "id": "70bec9910adb0595",
   "outputs": [
    {
     "data": {
      "text/plain": [
       "                   date                   sender              receiver  \\\n",
       "0   2000-05-31 17:01:00  phillip.allen@enron.com  al.pollard@enron.com   \n",
       "1   2000-05-31 17:01:00  phillip.allen@enron.com  al.pollard@enron.com   \n",
       "2   2000-05-31 17:01:00  phillip.allen@enron.com  al.pollard@enron.com   \n",
       "3   2000-07-10 13:54:00  phillip.allen@enron.com  al.pollard@enron.com   \n",
       "4   2000-07-10 13:54:00  phillip.allen@enron.com  al.pollard@enron.com   \n",
       "5   2000-07-10 13:54:00  phillip.allen@enron.com  al.pollard@enron.com   \n",
       "6   2000-07-11 09:50:00  phillip.allen@enron.com  al.pollard@enron.com   \n",
       "7   2000-07-11 09:50:00  phillip.allen@enron.com  al.pollard@enron.com   \n",
       "8   2000-07-11 09:50:00  phillip.allen@enron.com  al.pollard@enron.com   \n",
       "9   2000-07-18 09:38:00  phillip.allen@enron.com  al.pollard@enron.com   \n",
       "10  2000-07-18 09:38:00  phillip.allen@enron.com  al.pollard@enron.com   \n",
       "11  2000-07-18 09:38:00  phillip.allen@enron.com  al.pollard@enron.com   \n",
       "\n",
       "                                              content  \n",
       "0   Al,\\n\\nI was glad to hear from you.  I hope we...  \n",
       "1   Al,\\n\\nI was glad to hear from you.  I hope we...  \n",
       "2   Al,\\n\\nI was glad to hear from you.  I hope we...  \n",
       "3   Al,\\n\\nI am not in good enough shape to ride a...  \n",
       "4   Al,\\n\\nI am not in good enough shape to ride a...  \n",
       "5   Al,\\n\\nI am not in good enough shape to ride a...  \n",
       "6                        15 in front of the building?  \n",
       "7                        15 in front of the building?  \n",
       "8                        15 in front of the building?  \n",
       "9                               15 today still works.  \n",
       "10                              15 today still works.  \n",
       "11                              15 today still works.  "
      ],
      "text/html": [
       "<div>\n",
       "<style scoped>\n",
       "    .dataframe tbody tr th:only-of-type {\n",
       "        vertical-align: middle;\n",
       "    }\n",
       "\n",
       "    .dataframe tbody tr th {\n",
       "        vertical-align: top;\n",
       "    }\n",
       "\n",
       "    .dataframe thead th {\n",
       "        text-align: right;\n",
       "    }\n",
       "</style>\n",
       "<table border=\"1\" class=\"dataframe\">\n",
       "  <thead>\n",
       "    <tr style=\"text-align: right;\">\n",
       "      <th></th>\n",
       "      <th>date</th>\n",
       "      <th>sender</th>\n",
       "      <th>receiver</th>\n",
       "      <th>content</th>\n",
       "    </tr>\n",
       "  </thead>\n",
       "  <tbody>\n",
       "    <tr>\n",
       "      <th>0</th>\n",
       "      <td>2000-05-31 17:01:00</td>\n",
       "      <td>phillip.allen@enron.com</td>\n",
       "      <td>al.pollard@enron.com</td>\n",
       "      <td>Al,\\n\\nI was glad to hear from you.  I hope we...</td>\n",
       "    </tr>\n",
       "    <tr>\n",
       "      <th>1</th>\n",
       "      <td>2000-05-31 17:01:00</td>\n",
       "      <td>phillip.allen@enron.com</td>\n",
       "      <td>al.pollard@enron.com</td>\n",
       "      <td>Al,\\n\\nI was glad to hear from you.  I hope we...</td>\n",
       "    </tr>\n",
       "    <tr>\n",
       "      <th>2</th>\n",
       "      <td>2000-05-31 17:01:00</td>\n",
       "      <td>phillip.allen@enron.com</td>\n",
       "      <td>al.pollard@enron.com</td>\n",
       "      <td>Al,\\n\\nI was glad to hear from you.  I hope we...</td>\n",
       "    </tr>\n",
       "    <tr>\n",
       "      <th>3</th>\n",
       "      <td>2000-07-10 13:54:00</td>\n",
       "      <td>phillip.allen@enron.com</td>\n",
       "      <td>al.pollard@enron.com</td>\n",
       "      <td>Al,\\n\\nI am not in good enough shape to ride a...</td>\n",
       "    </tr>\n",
       "    <tr>\n",
       "      <th>4</th>\n",
       "      <td>2000-07-10 13:54:00</td>\n",
       "      <td>phillip.allen@enron.com</td>\n",
       "      <td>al.pollard@enron.com</td>\n",
       "      <td>Al,\\n\\nI am not in good enough shape to ride a...</td>\n",
       "    </tr>\n",
       "    <tr>\n",
       "      <th>5</th>\n",
       "      <td>2000-07-10 13:54:00</td>\n",
       "      <td>phillip.allen@enron.com</td>\n",
       "      <td>al.pollard@enron.com</td>\n",
       "      <td>Al,\\n\\nI am not in good enough shape to ride a...</td>\n",
       "    </tr>\n",
       "    <tr>\n",
       "      <th>6</th>\n",
       "      <td>2000-07-11 09:50:00</td>\n",
       "      <td>phillip.allen@enron.com</td>\n",
       "      <td>al.pollard@enron.com</td>\n",
       "      <td>15 in front of the building?</td>\n",
       "    </tr>\n",
       "    <tr>\n",
       "      <th>7</th>\n",
       "      <td>2000-07-11 09:50:00</td>\n",
       "      <td>phillip.allen@enron.com</td>\n",
       "      <td>al.pollard@enron.com</td>\n",
       "      <td>15 in front of the building?</td>\n",
       "    </tr>\n",
       "    <tr>\n",
       "      <th>8</th>\n",
       "      <td>2000-07-11 09:50:00</td>\n",
       "      <td>phillip.allen@enron.com</td>\n",
       "      <td>al.pollard@enron.com</td>\n",
       "      <td>15 in front of the building?</td>\n",
       "    </tr>\n",
       "    <tr>\n",
       "      <th>9</th>\n",
       "      <td>2000-07-18 09:38:00</td>\n",
       "      <td>phillip.allen@enron.com</td>\n",
       "      <td>al.pollard@enron.com</td>\n",
       "      <td>15 today still works.</td>\n",
       "    </tr>\n",
       "    <tr>\n",
       "      <th>10</th>\n",
       "      <td>2000-07-18 09:38:00</td>\n",
       "      <td>phillip.allen@enron.com</td>\n",
       "      <td>al.pollard@enron.com</td>\n",
       "      <td>15 today still works.</td>\n",
       "    </tr>\n",
       "    <tr>\n",
       "      <th>11</th>\n",
       "      <td>2000-07-18 09:38:00</td>\n",
       "      <td>phillip.allen@enron.com</td>\n",
       "      <td>al.pollard@enron.com</td>\n",
       "      <td>15 today still works.</td>\n",
       "    </tr>\n",
       "  </tbody>\n",
       "</table>\n",
       "</div>"
      ]
     },
     "execution_count": 48,
     "metadata": {},
     "output_type": "execute_result"
    }
   ],
   "execution_count": 48
  },
  {
   "metadata": {
    "ExecuteTime": {
     "end_time": "2024-07-11T05:06:25.630427Z",
     "start_time": "2024-07-11T05:06:25.599634Z"
    }
   },
   "cell_type": "code",
   "source": [
    "for index,row in item.iterrows():\n",
    "    date_item=row[\"date\"]\n",
    "date_item"
   ],
   "id": "c88a4e8a37916d5",
   "outputs": [
    {
     "data": {
      "text/plain": [
       "'2000-07-18 09:38:00'"
      ]
     },
     "execution_count": 58,
     "metadata": {},
     "output_type": "execute_result"
    }
   ],
   "execution_count": 58
  },
  {
   "metadata": {
    "ExecuteTime": {
     "end_time": "2024-07-11T03:33:53.273351Z",
     "start_time": "2024-07-11T03:33:53.258340Z"
    }
   },
   "cell_type": "code",
   "source": [
    "conclusion=answer[5][1]\n",
    "conclusion"
   ],
   "id": "365daced3448cc41",
   "outputs": [
    {
     "data": {
      "text/plain": [
       "'1. 2000年5月31日：菲利普与艾尔重修旧好，祝贺艾尔新添宝宝，分享自己家庭的动态，包括新生女儿Evelyn Grace和儿子Hunter的骑车爱好。\\n2. 菲利普询问艾尔新工作的详情，并提议共进午餐。\\n3. 7月10日，菲利普因身体原因无法参加长途骑行，提出本周或下周吃午餐，讨论具体时间。\\n4. 7月11日，菲利普建议周二上午11:15见面。\\n5. 7月18日，确认周二11:15的见面时间不变。'"
      ]
     },
     "execution_count": 51,
     "metadata": {},
     "output_type": "execute_result"
    }
   ],
   "execution_count": 51
  },
  {
   "metadata": {},
   "cell_type": "code",
   "outputs": [],
   "execution_count": null,
   "source": "",
   "id": "8fe1ef4cb7eda03d"
  }
 ],
 "metadata": {
  "kernelspec": {
   "display_name": "email",
   "language": "python",
   "name": "email"
  },
  "language_info": {
   "codemirror_mode": {
    "name": "ipython",
    "version": 2
   },
   "file_extension": ".py",
   "mimetype": "text/x-python",
   "name": "python",
   "nbconvert_exporter": "python",
   "pygments_lexer": "ipython2",
   "version": "2.7.6"
  }
 },
 "nbformat": 4,
 "nbformat_minor": 5
}
